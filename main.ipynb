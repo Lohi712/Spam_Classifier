{
 "cells": [
  {
   "cell_type": "code",
   "execution_count": 1,
   "id": "e1052989",
   "metadata": {},
   "outputs": [],
   "source": [
    "import numpy as np\n",
    "import pandas as pd"
   ]
  },
  {
   "cell_type": "code",
   "execution_count": null,
   "id": "bf4b7880",
   "metadata": {},
   "outputs": [
    {
     "data": {
      "text/html": [
       "<div>\n",
       "<style scoped>\n",
       "    .dataframe tbody tr th:only-of-type {\n",
       "        vertical-align: middle;\n",
       "    }\n",
       "\n",
       "    .dataframe tbody tr th {\n",
       "        vertical-align: top;\n",
       "    }\n",
       "\n",
       "    .dataframe thead th {\n",
       "        text-align: right;\n",
       "    }\n",
       "</style>\n",
       "<table border=\"1\" class=\"dataframe\">\n",
       "  <thead>\n",
       "    <tr style=\"text-align: right;\">\n",
       "      <th></th>\n",
       "      <th>label</th>\n",
       "      <th>message</th>\n",
       "    </tr>\n",
       "  </thead>\n",
       "  <tbody>\n",
       "    <tr>\n",
       "      <th>0</th>\n",
       "      <td>ham</td>\n",
       "      <td>Go until jurong point, crazy.. Available only ...</td>\n",
       "    </tr>\n",
       "    <tr>\n",
       "      <th>1</th>\n",
       "      <td>ham</td>\n",
       "      <td>Ok lar... Joking wif u oni...</td>\n",
       "    </tr>\n",
       "    <tr>\n",
       "      <th>2</th>\n",
       "      <td>spam</td>\n",
       "      <td>Free entry in 2 a wkly comp to win FA Cup fina...</td>\n",
       "    </tr>\n",
       "    <tr>\n",
       "      <th>3</th>\n",
       "      <td>ham</td>\n",
       "      <td>U dun say so early hor... U c already then say...</td>\n",
       "    </tr>\n",
       "    <tr>\n",
       "      <th>4</th>\n",
       "      <td>ham</td>\n",
       "      <td>Nah I don't think he goes to usf, he lives aro...</td>\n",
       "    </tr>\n",
       "  </tbody>\n",
       "</table>\n",
       "</div>"
      ],
      "text/plain": [
       "  label                                            message\n",
       "0   ham  Go until jurong point, crazy.. Available only ...\n",
       "1   ham                      Ok lar... Joking wif u oni...\n",
       "2  spam  Free entry in 2 a wkly comp to win FA Cup fina...\n",
       "3   ham  U dun say so early hor... U c already then say...\n",
       "4   ham  Nah I don't think he goes to usf, he lives aro..."
      ]
     },
     "execution_count": 4,
     "metadata": {},
     "output_type": "execute_result"
    }
   ],
   "source": [
    "url = 'https://raw.githubusercontent.com/justmarkham/pycon-2016-tutorial/master/data/sms.tsv'\n",
    "df = pd.read_csv(url,sep='\\t',header=None,names=['label','message'])\n",
    "df.head()"
   ]
  },
  {
   "cell_type": "markdown",
   "id": "3827d9e0",
   "metadata": {},
   "source": [
    "#### Exploring Dataset"
   ]
  },
  {
   "cell_type": "code",
   "execution_count": 18,
   "id": "65fd3632",
   "metadata": {},
   "outputs": [
    {
     "name": "stdout",
     "output_type": "stream",
     "text": [
      "Rows: 5572 , Cols: 3\n",
      "\n",
      "Normal Message: \n",
      "     label                                            message  length\n",
      "2336   ham  Which is weird because I know I had it at one ...      51\n",
      "2867   ham                      Smith waste da.i wanna gayle.      29\n",
      "1595   ham  Never blame a day in ur life. Good days give u...     152\n",
      "\n",
      "Spam message\n",
      "     label                                            message  length\n",
      "5377  spam  The current leading bid is 151. To pause this ...      90\n",
      "3750  spam  Dear Voucher Holder 2 claim your 1st class air...     147\n",
      "4760  spam  Thanks 4 your continued support Your question ...     138\n"
     ]
    }
   ],
   "source": [
    "# Shape of the data\n",
    "dim = df.shape\n",
    "print(f\"Rows: {dim[0]} , Cols: {dim[1]}\")\n",
    "print()\n",
    "\n",
    "# What does a normal message look like?\n",
    "print(\"Normal Message: \")\n",
    "print(df[df['label'] == 'ham'].sample(3))  # Normal language used in these messages,refers to a person mostly.\n",
    "print()\n",
    "\n",
    "# What does a Spam message look like?\n",
    "print(\"Spam message\")\n",
    "print(df[df['label'] == 'spam'].sample(3)) # Use of CAPS, special characters, Numbers, \"claim\",\"Win\",\"free\" are common in these messages."
   ]
  },
  {
   "cell_type": "code",
   "execution_count": null,
   "id": "3b3fe672",
   "metadata": {},
   "outputs": [
    {
     "name": "stdout",
     "output_type": "stream",
     "text": [
      "        count        mean        std   min    25%    50%    75%    max\n",
      "label                                                                 \n",
      "ham    4825.0   71.482487  58.440652   2.0   33.0   52.0   93.0  910.0\n",
      "spam    747.0  138.670683  28.873603  13.0  133.0  149.0  157.0  223.0\n"
     ]
    }
   ],
   "source": [
    "# Looking for length of mesagges\n",
    "df['length'] = df['message'].apply(len)\n",
    "\n",
    "print(df.groupby('label')['length'].describe())"
   ]
  },
  {
   "cell_type": "markdown",
   "id": "580f39f0",
   "metadata": {},
   "source": [
    "The mean length of spam messages are higher than normal messages"
   ]
  }
 ],
 "metadata": {
  "kernelspec": {
   "display_name": "Python 3",
   "language": "python",
   "name": "python3"
  },
  "language_info": {
   "codemirror_mode": {
    "name": "ipython",
    "version": 3
   },
   "file_extension": ".py",
   "mimetype": "text/x-python",
   "name": "python",
   "nbconvert_exporter": "python",
   "pygments_lexer": "ipython3",
   "version": "3.12.4"
  }
 },
 "nbformat": 4,
 "nbformat_minor": 5
}
